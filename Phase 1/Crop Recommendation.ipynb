{
 "cells": [
  {
   "cell_type": "markdown",
   "id": "5d2b7803",
   "metadata": {},
   "source": [
    "# Crop Recommendation"
   ]
  },
  {
   "cell_type": "code",
   "execution_count": null,
   "id": "32c01fdf",
   "metadata": {},
   "outputs": [],
   "source": [
    "import pandas as pd"
   ]
  },
  {
   "cell_type": "code",
   "execution_count": null,
   "id": "42139ceb",
   "metadata": {},
   "outputs": [],
   "source": []
  }
 ],
 "metadata": {
  "kernelspec": {
   "display_name": "Python 3 (ipykernel)",
   "language": "python",
   "name": "python3"
  }
 },
 "nbformat": 4,
 "nbformat_minor": 5
}
